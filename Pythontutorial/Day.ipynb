{
 "cells": [
  {
   "cell_type": "code",
   "execution_count": null,
   "id": "5d082aaa",
   "metadata": {
    "vscode": {
     "languageId": "plaintext"
    }
   },
   "outputs": [],
   "source": [
    "List"
   ]
  },
  {
   "cell_type": "code",
   "execution_count": null,
   "id": "68beb960",
   "metadata": {},
   "outputs": [],
   "source": [
    "mylist = [10,20,-10, 2.0, \"mg mg\"] #index num\n",
    "myset = {20,10,20,40}\n",
    "mytuple = (20,30,\"mg mg\")\n",
    "dict = {'key':'values'}\n",
    "dict_eg = {'name':'Mg Mg', 'phone':'0987456'}"
   ]
  }
 ],
 "metadata": {
  "language_info": {
   "name": "python"
  }
 },
 "nbformat": 4,
 "nbformat_minor": 5
}
