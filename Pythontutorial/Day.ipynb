{
 "cells": [
  {
   "cell_type": "code",
   "execution_count": null,
   "id": "5d082aaa",
   "metadata": {},
   "outputs": [],
   "source": [
    "List"
   ]
  },
  {
   "cell_type": "code",
   "execution_count": null,
   "id": "68beb960",
   "metadata": {},
   "outputs": [],
   "source": [
    "mylist = [10,20,-10, 2.0, \"mg mg\"] #index num\n",
    "myset = {20,10,20,40}\n",
    "mytuple = (20,30,\"mg mg\")\n",
    "dict = {'key':'values'}\n",
    "dict_eg = {'name':'Mg Mg', 'phone':'0987456'}"
   ]
  },
  {
   "cell_type": "code",
   "execution_count": null,
   "id": "e86aae75",
   "metadata": {},
   "outputs": [],
   "source": [
    "mylist = [10,20,-10, 2.0, \"mg mg\"] #index num\n",
    "print(mylist[4])\n",
    "print(mylist[-1])\n",
    "print(mylist[2:4])  #index range : +1\n"
   ]
  },
  {
   "cell_type": "code",
   "execution_count": null,
   "id": "5757fd06",
   "metadata": {},
   "outputs": [],
   "source": [
    "mylist = [10,20,-10, 2.0, \"mg mg\"] #index num\n",
    "mylist[2]=80\n",
    "mylist[4]=\"Kyaw Kyaw\"\n",
    "del mylist[2]\n",
    "print(mylist)"
   ]
  },
  {
   "cell_type": "code",
   "execution_count": null,
   "id": "93d1b181",
   "metadata": {},
   "outputs": [],
   "source": [
    "mylist = [10,20,-10, 2.0] #index num\n",
    "my = ['mg mg', 'aung aung', 'kyaw kyaw']\n",
    "\n",
    "my.sort()\n",
    "print(my)\n"
   ]
  },
  {
   "cell_type": "code",
   "execution_count": null,
   "id": "bf260a9b",
   "metadata": {},
   "outputs": [],
   "source": [
    "t = (10,20) #index\n",
    "s = {10, 10,20, 30, 2.5, -2, 'apple'} #no index\n",
    "print(s)\n"
   ]
  },
  {
   "cell_type": "code",
   "execution_count": null,
   "id": "c2c3cd21",
   "metadata": {},
   "outputs": [],
   "source": [
    "dict = {'key':'values'}  #index\n",
    "d = {\n",
    "    'name':'mg mg', \n",
    "    'phone':123456, \n",
    "    'address':'yangon'\n",
    "    }\n",
    "\n",
    "# d['name'] = \"mgmg@email.com\"\n",
    "# d.pop('phone')\n",
    "c = d.copy()\n",
    "\n",
    "print(c)"
   ]
  },
  {
   "cell_type": "code",
   "execution_count": null,
   "id": "8573f618",
   "metadata": {},
   "outputs": [],
   "source": [
    "li = [1,2,3]\n",
    "l1=li.copy()\n",
    "print(l1)"
   ]
  },
  {
   "cell_type": "code",
   "execution_count": null,
   "id": "2b9f9887",
   "metadata": {},
   "outputs": [],
   "source": [
    "# control \n",
    "# if \n",
    "# while \n",
    "# for "
   ]
  },
  {
   "cell_type": "code",
   "execution_count": null,
   "id": "06329f53",
   "metadata": {},
   "outputs": [
    {
     "name": "stdout",
     "output_type": "stream",
     "text": [
      "credit\n",
      "apple\n"
     ]
    }
   ],
   "source": [
    "mark = 90\n",
    "\n",
    "if mark == 100:\n",
    " print('full mark')\n",
    "\n",
    "elif mark > 80:\n",
    "    print('credit')\n",
    "    \n",
    "elif mark > 50:\n",
    "    print('pass')\n",
    "else:\n",
    "    print('fail')\n",
    "    "
   ]
  },
  {
   "cell_type": "code",
   "execution_count": 87,
   "id": "0a8e83f3",
   "metadata": {},
   "outputs": [
    {
     "name": "stdout",
     "output_type": "stream",
     "text": [
      "10\n",
      "next\n",
      "20\n",
      "next\n",
      "30\n",
      "next\n",
      "40\n",
      "next\n",
      "50\n",
      "next\n",
      "end\n"
     ]
    }
   ],
   "source": [
    "# for \n",
    "list1 = [10,20, 30,40, 50]\n",
    "\n",
    "for name in list1:\n",
    "    print(name)\n",
    "    print('next')\n",
    "\n",
    "print('end')"
   ]
  }
 ],
 "metadata": {
  "kernelspec": {
   "display_name": ".venv (3.12.7)",
   "language": "python",
   "name": "python3"
  },
  "language_info": {
   "codemirror_mode": {
    "name": "ipython",
    "version": 3
   },
   "file_extension": ".py",
   "mimetype": "text/x-python",
   "name": "python",
   "nbconvert_exporter": "python",
   "pygments_lexer": "ipython3",
   "version": "3.12.7"
  }
 },
 "nbformat": 4,
 "nbformat_minor": 5
}
