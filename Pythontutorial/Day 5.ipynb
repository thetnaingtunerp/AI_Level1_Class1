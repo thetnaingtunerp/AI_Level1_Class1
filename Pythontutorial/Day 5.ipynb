{
 "cells": [
  {
   "cell_type": "code",
   "execution_count": null,
   "id": "7f3af1b5",
   "metadata": {},
   "outputs": [],
   "source": [
    "# def \n",
    "# lambda  \n",
    "def greet(num1, num2=30):\n",
    "    ans = num1+num2\n",
    "    ans2 = num1-num2\n",
    "    print(ans)\n",
    "    print(ans2)\n",
    "    \n",
    "greet(2, 10)\n",
    "\n",
    "\n",
    "fun = lambda a,b:  a+b\n",
    "\n",
    "fun(2,3)"
   ]
  },
  {
   "cell_type": "code",
   "execution_count": null,
   "id": "465a0170",
   "metadata": {},
   "outputs": [],
   "source": [
    "# array \n",
    "# numpy\n",
    "# pip package install \n",
    "# pip3 install numpy\n",
    "\n"
   ]
  },
  {
   "cell_type": "code",
   "execution_count": null,
   "id": "d495404c",
   "metadata": {},
   "outputs": [],
   "source": [
    "import numpy as np\n",
    "arr = np.array( [1, 2.5, 3, 4], dtype=np.int64 ) \n",
    "print(arr)\n",
    "print(type(arr))\n",
    "print(arr.ndim)\n",
    "print(arr.dtype)\n"
   ]
  },
  {
   "cell_type": "code",
   "execution_count": null,
   "id": "0fbfeb2b",
   "metadata": {},
   "outputs": [],
   "source": [
    "a = np.zeros((2,3))\n",
    "b = np.ones((2,3))\n",
    "a\n"
   ]
  },
  {
   "cell_type": "code",
   "execution_count": null,
   "id": "4478d278",
   "metadata": {},
   "outputs": [],
   "source": [
    "arr = np.array([1,2,3,4,5])\n",
    "arr2 = np.array(\n",
    "    [\n",
    "        [[1,2,3,4,5],[6,7,8,9,10],[2,4,6,7,8]],\n",
    "        [[1,3,5,7,9],[2,4,6,8,10], [12,23,2,43,7]]\n",
    "        ])\n",
    "\n",
    "# (2,3,5)\n",
    "arr2[0,0,3:]\n"
   ]
  },
  {
   "cell_type": "code",
   "execution_count": null,
   "id": "525dc0e8",
   "metadata": {},
   "outputs": [],
   "source": [
    "arr = np.array([1,2,3,4,5,6,7])\n",
    "a = arr[1:4].copy()\n",
    "arr2 = np.array([[2,4,5,6,7],[1,3,5,6,5]])\n",
    "\n",
    "arr3 = arr2[0].copy()\n",
    "arr3"
   ]
  },
  {
   "cell_type": "code",
   "execution_count": 85,
   "id": "8581ef89",
   "metadata": {},
   "outputs": [
    {
     "name": "stdout",
     "output_type": "stream",
     "text": [
      "(2, 4)\n",
      "(4, 2)\n",
      "[[2 1]\n",
      " [4 3]\n",
      " [5 5]\n",
      " [6 7]]\n"
     ]
    }
   ],
   "source": [
    "arr = np.array([1,2,3,4,5,6])\n",
    "arr2 = np.array([\n",
    "    [2,4,5,6],\n",
    "    [1,3,5,7]])\n",
    "\n",
    "\n",
    "arr3 = np.reshape(arr, (3,2))\n",
    "\n",
    "arr4 = np.transpose(arr2)\n",
    "\n",
    "print(arr2.shape)\n",
    "print(arr4.shape)\n",
    "print(arr4)"
   ]
  },
  {
   "cell_type": "code",
   "execution_count": null,
   "id": "85d0d53b",
   "metadata": {},
   "outputs": [],
   "source": []
  }
 ],
 "metadata": {
  "kernelspec": {
   "display_name": ".venv (3.12.7)",
   "language": "python",
   "name": "python3"
  },
  "language_info": {
   "codemirror_mode": {
    "name": "ipython",
    "version": 3
   },
   "file_extension": ".py",
   "mimetype": "text/x-python",
   "name": "python",
   "nbconvert_exporter": "python",
   "pygments_lexer": "ipython3",
   "version": "3.12.7"
  }
 },
 "nbformat": 4,
 "nbformat_minor": 5
}
